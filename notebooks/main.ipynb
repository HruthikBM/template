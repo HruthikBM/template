{
 "cells": [
  {
   "cell_type": "code",
   "execution_count": 1,
   "id": "5972cb40",
   "metadata": {},
   "outputs": [
    {
     "name": "stderr",
     "output_type": "stream",
     "text": [
      "2025-06-27 23:30:31,087 [INFO] CaseStudy6_default_session - ===== SESSION 'default_session' STARTED =====\n",
      "2025-06-27 23:30:31,087 [INFO] CaseStudy6_default_session - Log file: logs\\default_session_2025-06-27_233031.log\n",
      "2025-06-27 23:30:31,087 [ERROR] CaseStudy6_default_session - Failed to import utility modules: No module named 'utility.data_preprocess'\n"
     ]
    }
   ],
   "source": [
    "import pandas as pd\n",
    "import numpy as np\n",
    "import matplotlib.pyplot as plt\n",
    "import seaborn as sns\n",
    "import warnings\n",
    "import importlib\n",
    "warnings.filterwarnings('ignore')\n",
    "\n",
    "import sys\n",
    "import os\n",
    "\n",
    "sys.path.append(os.path.join(os.getcwd(), '..'))\n",
    "if 'config' in sys.modules:\n",
    "    importlib.reload(sys.modules['config'])\n",
    "\n",
    "# Reload utility module to pick up any changes\n",
    "if 'utility' in sys.modules:\n",
    "    importlib.reload(sys.modules['utility'])\n",
    "\n",
    "from utility import (\n",
    "    get_session_logger\n",
    ")\n",
    "\n",
    "from src import (\n",
    "    DataPreprocessor,\n",
    "    DataVisualizer,\n",
    "    ModelTraining\n",
    ")"
   ]
  },
  {
   "cell_type": "code",
   "execution_count": 2,
   "id": "f779731c",
   "metadata": {},
   "outputs": [],
   "source": [
    "%load_ext autoreload\n",
    "%autoreload 2"
   ]
  },
  {
   "cell_type": "code",
   "execution_count": 3,
   "id": "6c3705da",
   "metadata": {},
   "outputs": [
    {
     "name": "stderr",
     "output_type": "stream",
     "text": [
      "2025-06-27 23:31:13,391 [INFO] CaseStudy6_new log - ===== SESSION 'new log' STARTED =====\n",
      "2025-06-27 23:31:13,400 [INFO] CaseStudy6_new log - Log file: logs\\new log_2025-06-27_233113.log\n",
      "2025-06-27 23:31:13,407 [INFO] CaseStudy6_new log - Starting main notebook execution...\n"
     ]
    }
   ],
   "source": [
    "logger = get_session_logger(\"new log\")\n",
    "logger.info(\"Starting main notebook execution...\")"
   ]
  },
  {
   "cell_type": "code",
   "execution_count": 4,
   "id": "b0a67f05",
   "metadata": {},
   "outputs": [
    {
     "name": "stderr",
     "output_type": "stream",
     "text": [
      "2025-06-27 23:32:06,537 [INFO] CaseStudy6_DataPreprocessor - ===== SESSION 'DataPreprocessor' STARTED =====\n",
      "2025-06-27 23:32:06,538 [INFO] CaseStudy6_DataPreprocessor - Log file: logs\\DataPreprocessor_2025-06-27_233206.log\n",
      "2025-06-27 23:32:06,539 [INFO] CaseStudy6_DataPreprocessor - DataPreprocessor initialized\n",
      "2025-06-27 23:32:06,539 [INFO] CaseStudy6_DataPreprocessor - Loading data from data.csv\n"
     ]
    }
   ],
   "source": [
    "processor = DataPreprocessor()\n",
    "\n",
    "processor.load_data('data.csv')"
   ]
  },
  {
   "cell_type": "code",
   "execution_count": 6,
   "id": "4da0b3e6",
   "metadata": {},
   "outputs": [
    {
     "name": "stderr",
     "output_type": "stream",
     "text": [
      "2025-06-27 23:33:12,261 [INFO] CaseStudy6_DataVisualizer - DataVisualizer initialized\n",
      "2025-06-27 23:33:12,262 [INFO] CaseStudy6_DataVisualizer - Starting data visualization\n",
      "2025-06-27 23:33:12,262 [INFO] CaseStudy6_DataVisualizer - Data visualization completed\n"
     ]
    }
   ],
   "source": [
    "visualizer = DataVisualizer()\n",
    "visualizer.visualize_data(\"data\")"
   ]
  },
  {
   "cell_type": "code",
   "execution_count": 7,
   "id": "0720580d",
   "metadata": {},
   "outputs": [
    {
     "ename": "NameError",
     "evalue": "name 'ModelTrainer' is not defined",
     "output_type": "error",
     "traceback": [
      "\u001b[1;31m---------------------------------------------------------------------------\u001b[0m",
      "\u001b[1;31mNameError\u001b[0m                                 Traceback (most recent call last)",
      "Cell \u001b[1;32mIn[7], line 1\u001b[0m\n\u001b[1;32m----> 1\u001b[0m trainer \u001b[38;5;241m=\u001b[39m \u001b[43mModelTrainer\u001b[49m()\n\u001b[0;32m      2\u001b[0m trainer\u001b[38;5;241m.\u001b[39mtrain_model()\n",
      "\u001b[1;31mNameError\u001b[0m: name 'ModelTrainer' is not defined"
     ]
    }
   ],
   "source": [
    "trainer = ModelTraining()\n",
    "trainer.train_model()"
   ]
  },
  {
   "cell_type": "code",
   "execution_count": null,
   "id": "3fa4250c",
   "metadata": {},
   "outputs": [],
   "source": []
  }
 ],
 "metadata": {
  "kernelspec": {
   "display_name": "Python 3",
   "language": "python",
   "name": "python3"
  },
  "language_info": {
   "codemirror_mode": {
    "name": "ipython",
    "version": 3
   },
   "file_extension": ".py",
   "mimetype": "text/x-python",
   "name": "python",
   "nbconvert_exporter": "python",
   "pygments_lexer": "ipython3",
   "version": "3.10.18"
  }
 },
 "nbformat": 4,
 "nbformat_minor": 5
}
